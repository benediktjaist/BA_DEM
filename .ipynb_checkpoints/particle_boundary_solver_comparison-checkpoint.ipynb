{
 "cells": [
  {
   "cell_type": "code",
   "execution_count": 1,
   "id": "b3253832",
   "metadata": {},
   "outputs": [],
   "source": [
    "import matplotlib.pyplot as plt\n",
    "from scipy.optimize import fsolve\n",
    "import numpy as np"
   ]
  },
  {
   "cell_type": "markdown",
   "id": "a6df9011",
   "metadata": {},
   "source": [
    "## Set Parameters"
   ]
  },
  {
   "cell_type": "code",
   "execution_count": 2,
   "id": "a7271ad0",
   "metadata": {},
   "outputs": [],
   "source": [
    "#circle params\n",
    "r = 2  # radius\n",
    "x0 = 3  # x value of the circles center\n",
    "y0 = 3  # y value of the circles center"
   ]
  },
  {
   "cell_type": "code",
   "execution_count": 3,
   "id": "639fc670",
   "metadata": {},
   "outputs": [
    {
     "name": "stdout",
     "output_type": "stream",
     "text": [
      "None -2.0 8.0\n"
     ]
    }
   ],
   "source": [
    "#boundary points\n",
    "b1 = np.array([4, 0, 0])  # first point to specify the boundary\n",
    "b2 = np.array([2, 4, 0])  # sencond point to specify the boundary \n",
    "\n",
    "m = (b2[1]-b1[1])/(b2[0]-b1[0])  # slope of the linear function which describes the boundary\n",
    "t = b1[1]- m * b1[0]  # y intercept of the linear function which describes the boundary \n",
    "\n",
    "if m == np.inf:  # criterion to determine wether boundary can be written as linear equation or boundary is a vertical line\n",
    "    x = b1[0]    # if the boundary is a vertical line, the x-value of the boundary particle intersection points are known\n",
    "else:\n",
    "    x = None\n",
    "    \n",
    "print(x,m,t)"
   ]
  },
  {
   "cell_type": "markdown",
   "id": "f9bde0c2",
   "metadata": {},
   "source": [
    "## Plot Circle and Line"
   ]
  },
  {
   "cell_type": "code",
   "execution_count": 4,
   "id": "999df50d",
   "metadata": {},
   "outputs": [],
   "source": [
    "xPoints = np.linspace(0,6,1000)\n",
    "ThetaPoints = np.linspace(0,2 * np.pi,1000)"
   ]
  },
  {
   "cell_type": "code",
   "execution_count": 5,
   "id": "2eb38aeb",
   "metadata": {},
   "outputs": [
    {
     "data": {
      "text/plain": [
       "[<matplotlib.lines.Line2D at 0x278c272cee0>]"
      ]
     },
     "execution_count": 5,
     "metadata": {},
     "output_type": "execute_result"
    },
    {
     "data": {
      "image/png": "[encoded data removed]",
      "text/plain": [
       "<Figure size 600x600 with 1 Axes>"
      ]
     },
     "metadata": {},
     "output_type": "display_data"
    }
   ],
   "source": [
    "fig,ax = plt.subplots(figsize = (6,6))\n",
    "\n",
    "ax.set_xlim(0,6)\n",
    "ax.set_ylim(0,6)\n",
    "if x:\n",
    "    ax.axvline(x = b1[0],color = 'C1')\n",
    "else:\n",
    "    ax.plot(xPoints, m * xPoints + t)\n",
    "ax.plot(r * np.sin(ThetaPoints) + x0, r * np.cos(ThetaPoints) + y0)\n"
   ]
  },
  {
   "cell_type": "markdown",
   "id": "c1880a23",
   "metadata": {},
   "source": [
    "# Analytical Approach SciPy"
   ]
  },
  {
   "cell_type": "code",
   "execution_count": 6,
   "id": "7b147b84",
   "metadata": {},
   "outputs": [],
   "source": [
    "def circle_takes_y(x):\n",
    "    circle = (m*x+t-y0)**2 + (x-x0)**2 - r**2\n",
    "    return circle"
   ]
  },
  {
   "cell_type": "code",
   "execution_count": 7,
   "id": "9a8d2d1a",
   "metadata": {},
   "outputs": [],
   "source": [
    "def circle_takes_x(y):\n",
    "    circle = (y-y0)**2 + (x-x0)**2 - r**2\n",
    "    return circle"
   ]
  },
  {
   "cell_type": "code",
   "execution_count": 8,
   "id": "a988650d",
   "metadata": {},
   "outputs": [],
   "source": [
    "def linear_equation(x):\n",
    "    return m * x + t"
   ]
  },
  {
   "cell_type": "code",
   "execution_count": 9,
   "id": "235b1408",
   "metadata": {},
   "outputs": [
    {
     "data": {
      "text/plain": [
       "(array([1.72822021, 4.54355958, 0.        ]),\n",
       " array([3.47177979, 1.05644042, 0.        ]))"
      ]
     },
     "execution_count": 9,
     "metadata": {},
     "output_type": "execute_result"
    }
   ],
   "source": [
    "if x:\n",
    "    one = fsolve(circle_takes_x, y0 - r)\n",
    "    two = fsolve(circle_takes_x, y0 + r)\n",
    "    scipy_intersec_1 = np.array([x,one[0], 0])\n",
    "    scipy_intersec_2 = np.array([x,two[0], 0])\n",
    "else:\n",
    "    one = fsolve(circle_takes_y, x0 - r)\n",
    "    two = fsolve(circle_takes_y, x0 + r)\n",
    "    scipy_intersec_1 = np.array([one[0], linear_equation(one[0]), 0])\n",
    "    scipy_intersec_2 = np.array([two[0], linear_equation(two[0]), 0])\n",
    "    \n",
    "scipy_intersec_1, scipy_intersec_2"
   ]
  },
  {
   "cell_type": "markdown",
   "id": "c6f10b4c",
   "metadata": {},
   "source": [
    "# Geometrical Approach Numpy"
   ]
  },
  {
   "cell_type": "code",
   "execution_count": 10,
   "id": "ba90c064",
   "metadata": {
    "scrolled": false
   },
   "outputs": [
    {
     "data": {
      "text/plain": [
       "(array([1.72822021, 4.54355958, 0.        ]),\n",
       " array([3.47177979, 1.05644042, 0.        ]))"
      ]
     },
     "execution_count": 10,
     "metadata": {},
     "output_type": "execute_result"
    }
   ],
   "source": [
    "M = np.array([x0, y0, 0]) - b1\n",
    "u = b2 - b1\n",
    "Mu = np.dot(M, u)/np.linalg.norm(u)**2 * u\n",
    "Lot = Mu - M\n",
    "l = np.sqrt(r**2 - np.linalg.norm(Lot)**2)\n",
    "\n",
    "numpy_intersec_1 = Mu + Mu/np.linalg.norm(Mu) * l + b1\n",
    "numpy_intersec_2 = Mu - Mu/np.linalg.norm(Mu) * l + b1\n",
    "\n",
    "numpy_intersec_1, numpy_intersec_2"
   ]
  },
  {
   "cell_type": "markdown",
   "id": "b333a009",
   "metadata": {},
   "source": [
    "# Analytical Approach SymPy "
   ]
  },
  {
   "cell_type": "code",
   "execution_count": 11,
   "id": "2062becb",
   "metadata": {},
   "outputs": [],
   "source": [
    "import sympy as smp"
   ]
  },
  {
   "cell_type": "code",
   "execution_count": 12,
   "id": "e6f35464",
   "metadata": {},
   "outputs": [],
   "source": [
    "y_= smp.symbols('y')\n",
    "x_= smp.symbols('x')"
   ]
  },
  {
   "cell_type": "code",
   "execution_count": 13,
   "id": "791c497a",
   "metadata": {
    "scrolled": true
   },
   "outputs": [
    {
     "data": {
      "text/plain": [
       "(array([1.72822021, 4.54355958, 0.        ]),\n",
       " array([3.47177979, 1.05644042, 0.        ]))"
      ]
     },
     "execution_count": 13,
     "metadata": {},
     "output_type": "execute_result"
    }
   ],
   "source": [
    "if x:\n",
    "    circle_x_known = (y_-y0)**2 + (x-x0)**2 - r**2\n",
    "    solutions = np.float64(smp.solve(circle_x_known, y_))\n",
    "    if len(solutions) == 2:\n",
    "        i = 1\n",
    "    else:\n",
    "        i = 0\n",
    "    sympy_intersec_1 = np.array([x, solutions[0],0])\n",
    "    sympy_intersec_2 = np.array([x, solutions[i],0])\n",
    "else:\n",
    "    circle_y_known = (m*x_+t-y0)**2 + (x_-x0)**2 - r**2\n",
    "    solutions = np.float64(smp.solve(circle_y_known, x_))\n",
    "    if len(solutions) == 2:\n",
    "        i = 1\n",
    "    else:\n",
    "        i = 0\n",
    "    sympy_intersec_1 = np.array([solutions[0], linear_equation(solutions[0]),0])\n",
    "    sympy_intersec_2 = np.array([solutions[i], linear_equation(solutions[i]),0])\n",
    "    \n",
    "sympy_intersec_1, sympy_intersec_2"
   ]
  },
  {
   "cell_type": "markdown",
   "id": "06c62d20",
   "metadata": {},
   "source": [
    "# Analytical Approach hardcoded"
   ]
  },
  {
   "cell_type": "code",
   "execution_count": 14,
   "id": "2434faba",
   "metadata": {},
   "outputs": [],
   "source": [
    "if x:\n",
    "    A = 1\n",
    "    B = -2*y0\n",
    "    C = y0**2 - r**2 + (x-x0)**2\n",
    "    \n",
    "    hard_y1 = (-B + np.sqrt(B**2-4*A*C))/(2*A)\n",
    "    hard_y2 = (-B - np.sqrt(B**2-4*A*C))/(2*A)\n",
    "    \n",
    "    hard_intersec_2 = np.array([x, hard_y1, 0])\n",
    "    hard_intersec_1 = np.array([x, hard_y2, 0])\n",
    "else:\n",
    "    A = m**2 +1\n",
    "    B = 2 * (m*t - m*y0 - x0)\n",
    "    C = y0**2 - r**2 + x0**2 - 2*t*y0 + t**2\n",
    "    \n",
    "    hard_x1 = (-B + np.sqrt(B**2-4*A*C))/(2*A)\n",
    "    hard_x2 = (-B - np.sqrt(B**2-4*A*C))/(2*A)\n",
    "    \n",
    "    hard_intersec_2 = np.array([hard_x1, linear_equation(hard_x1), 0])\n",
    "    hard_intersec_1 = np.array([hard_x2, linear_equation(hard_x2), 0])\n",
    "    \n",
    "    hard_intersec_1, hard_intersec_2"
   ]
  },
  {
   "cell_type": "markdown",
   "id": "1fd25b14",
   "metadata": {},
   "source": [
    "# Benchmark"
   ]
  },
  {
   "cell_type": "code",
   "execution_count": 15,
   "id": "0b57e5be",
   "metadata": {},
   "outputs": [],
   "source": [
    "import timeit"
   ]
  },
  {
   "cell_type": "code",
   "execution_count": 16,
   "id": "df2a7c9e",
   "metadata": {},
   "outputs": [
    {
     "name": "stdout",
     "output_type": "stream",
     "text": [
      "31 ms ± 961 µs per loop (mean ± std. dev. of 7 runs, 10 loops each)\n"
     ]
    }
   ],
   "source": [
    "%%timeit\n",
    "# Analytical Approach Sympy Solver\n",
    "if x:\n",
    "    circle_x_known = (y_-y0)**2 + (x-x0)**2 - r**2\n",
    "    solutions = np.float64(smp.solve(circle_x_known, y_))\n",
    "    if len(solutions) == 2:\n",
    "        i = 1\n",
    "    else:\n",
    "        i = 0\n",
    "    sympy_intersec_1 = np.array([x, solutions[0],0])\n",
    "    sympy_intersec_2 = np.array([x, solutions[i],0])\n",
    "else:\n",
    "    circle_y_known = (m*x_+t-y0)**2 + (x_-x0)**2 - r**2\n",
    "    solutions = np.float64(smp.solve(circle_y_known, x_))\n",
    "    if len(solutions) == 2:\n",
    "        i = 1\n",
    "    else:\n",
    "        i = 0\n",
    "    sympy_intersec_1 = np.array([solutions[0], linear_equation(solutions[0]),0])\n",
    "    sympy_intersec_2 = np.array([solutions[i], linear_equation(solutions[i]),0])"
   ]
  },
  {
   "cell_type": "code",
   "execution_count": 17,
   "id": "206eba0c",
   "metadata": {},
   "outputs": [
    {
     "name": "stdout",
     "output_type": "stream",
     "text": [
      "[1.72822021 4.54355958 0.        ] [3.47177979 1.05644042 0.        ]\n"
     ]
    }
   ],
   "source": [
    "print(sympy_intersec_1, sympy_intersec_2)"
   ]
  },
  {
   "cell_type": "code",
   "execution_count": 18,
   "id": "6fe946ee",
   "metadata": {},
   "outputs": [
    {
     "name": "stdout",
     "output_type": "stream",
     "text": [
      "61.3 µs ± 5.7 µs per loop (mean ± std. dev. of 7 runs, 10,000 loops each)\n"
     ]
    }
   ],
   "source": [
    "%%timeit\n",
    "# Geometrical Approach Numpy\n",
    "M = np.array([x0, y0, 0]) - b1\n",
    "u = b2 - b1\n",
    "Mu = np.dot(M, u)/np.linalg.norm(u)**2 * u\n",
    "Lot = Mu - M\n",
    "l = np.sqrt(r**2 - np.linalg.norm(Lot)**2)\n",
    "\n",
    "numpy_intersec_1 = Mu + Mu/np.linalg.norm(Mu) * l + b1\n",
    "numpy_intersec_2 = Mu - Mu/np.linalg.norm(Mu) * l + b1"
   ]
  },
  {
   "cell_type": "code",
   "execution_count": 19,
   "id": "1efcd0e7",
   "metadata": {},
   "outputs": [
    {
     "name": "stdout",
     "output_type": "stream",
     "text": [
      "[1.72822021 4.54355958 0.        ] [3.47177979 1.05644042 0.        ]\n"
     ]
    }
   ],
   "source": [
    "print(numpy_intersec_1, numpy_intersec_2)"
   ]
  },
  {
   "cell_type": "code",
   "execution_count": 20,
   "id": "0e881021",
   "metadata": {},
   "outputs": [
    {
     "name": "stdout",
     "output_type": "stream",
     "text": [
      "348 µs ± 26.4 µs per loop (mean ± std. dev. of 7 runs, 1,000 loops each)\n"
     ]
    }
   ],
   "source": [
    "%%timeit\n",
    "# Analytical Approach SciPy Solver \n",
    "if x:\n",
    "    one = fsolve(circle_takes_x, y0 - r)\n",
    "    two = fsolve(circle_takes_x, y0 + r)\n",
    "    scipy_intersec_1 = np.array([x,one[0], 0])\n",
    "    scipy_intersec_2 = np.array([x,two[0], 0])\n",
    "else:\n",
    "    one = fsolve(circle_takes_y, x0 - r)\n",
    "    two = fsolve(circle_takes_y, x0 + r)\n",
    "    scipy_intersec_1 = np.array([one[0], linear_equation(one[0]), 0])\n",
    "    scipy_intersec_2 = np.array([two[0], linear_equation(two[0]), 0])"
   ]
  },
  {
   "cell_type": "code",
   "execution_count": 21,
   "id": "03b9ddf1",
   "metadata": {
    "scrolled": false
   },
   "outputs": [
    {
     "name": "stdout",
     "output_type": "stream",
     "text": [
      "[1.72822021 4.54355958 0.        ] [3.47177979 1.05644042 0.        ]\n"
     ]
    }
   ],
   "source": [
    "print(scipy_intersec_1, scipy_intersec_2)"
   ]
  },
  {
   "cell_type": "code",
   "execution_count": 22,
   "id": "925065dc",
   "metadata": {},
   "outputs": [
    {
     "name": "stdout",
     "output_type": "stream",
     "text": [
      "13.3 µs ± 1.05 µs per loop (mean ± std. dev. of 7 runs, 100,000 loops each)\n"
     ]
    }
   ],
   "source": [
    "%%timeit\n",
    "# Analytical Approach Hardcoded\n",
    "if x:\n",
    "    A = 1\n",
    "    B = -2*y0\n",
    "    C = y0**2 - r**2 + (x-x0)**2\n",
    "    \n",
    "    hard_y1 = (-B + np.sqrt(B**2-4*A*C))/(2*A)\n",
    "    hard_y2 = (-B - np.sqrt(B**2-4*A*C))/(2*A)\n",
    "    \n",
    "    hard_intersec_2 = np.array([x, hard_y1, 0])\n",
    "    hard_intersec_1 = np.array([x, hard_y2, 0])\n",
    "else:\n",
    "    A = m**2 +1\n",
    "    B = 2 * (m*t - m*y0 - x0)\n",
    "    C = y0**2 - r**2 + x0**2 - 2*t*y0 + t**2\n",
    "    \n",
    "    hard_x1 = (-B + np.sqrt(B**2-4*A*C))/(2*A)\n",
    "    hard_x2 = (-B - np.sqrt(B**2-4*A*C))/(2*A)\n",
    "    \n",
    "    hard_intersec_2 = np.array([hard_x1, linear_equation(hard_x1), 0])\n",
    "    hard_intersec_1 = np.array([hard_x2, linear_equation(hard_x2), 0])"
   ]
  },
  {
   "cell_type": "code",
   "execution_count": 23,
   "id": "7e0e6d14",
   "metadata": {
    "scrolled": true
   },
   "outputs": [
    {
     "name": "stdout",
     "output_type": "stream",
     "text": [
      "[1.72822021 4.54355958 0.        ] [3.47177979 1.05644042 0.        ]\n"
     ]
    }
   ],
   "source": [
    "print(hard_intersec_1, hard_intersec_2)"
   ]
  },
  {
   "cell_type": "code",
   "execution_count": 24,
   "id": "998403e2",
   "metadata": {},
   "outputs": [
    {
     "data": {
      "image/png": "[encoded data removed]",
      "text/plain": [
       "<Figure size 582.677x437.008 with 1 Axes>"
      ]
     },
     "metadata": {},
     "output_type": "display_data"
    }
   ],
   "source": [
    "import matplotlib.pyplot as plt\n",
    "\n",
    "sympy = [31000, 961]\n",
    "scipy = [348, 26.4]\n",
    "geometrical = [61.3, 5.7]\n",
    "hardcoded = [13.3, 1.05]\n",
    "\n",
    "data = [sympy, scipy, geometrical, hardcoded]\n",
    "labels=['SymPy', 'SciPy', 'Geometrical', 'Hardcoded']\n",
    "\n",
    "width_mm = 148\n",
    "height_mm = width_mm * 0.75\n",
    "height_inches = height_mm / 25.4\n",
    "\n",
    "fig, ax = plt.subplots(figsize=(width_mm/25.4, height_inches))\n",
    "\n",
    "box = ax.boxplot(data, patch_artist=True, labels=labels)\n",
    "\n",
    "ax.set_yscale('log')\n",
    "\n",
    "\n",
    "blue_color = (0/255, 101/255, 189/255, 1)\n",
    "orange_color = (227/255, 114/255, 34/255, 1)\n",
    "for patch in box['boxes']:\n",
    "    patch.set_facecolor(blue_color)\n",
    "for median in box['medians']:\n",
    "    median.set_color(orange_color)\n",
    "for whisker in box['whiskers']:\n",
    "    whisker.set_color(orange_color)\n",
    "for cap in box['caps']:\n",
    "    cap.set_color(orange_color)\n",
    "\n",
    "for i, label in enumerate(labels):\n",
    "    x = i + 1\n",
    "    y = data[i][0]\n",
    "    std = data[i][1]\n",
    "    plt.text(x, y, f\"{y:.1f}±{std:.1f}\", ha='center', va='bottom', fontsize=10)\n",
    "\n",
    "plt.ylabel('Computation Time per Loop [$\\mu$s]', fontsize=12)\n",
    "ax.set_xticklabels(labels, fontsize=12)\n",
    "#plt.title('Runtime Analysis')\n",
    "\n",
    "plt.savefig('T:/BA_DEM_Thesis/Template_Thesis/images/boxplot_runtime.pdf')\n"
   ]
  },
  {
   "cell_type": "code",
   "execution_count": null,
   "id": "c200cc7a",
   "metadata": {},
   "outputs": [],
   "source": []
  }
 ],
 "metadata": {
  "kernelspec": {
   "display_name": "Python 3 (ipykernel)",
   "language": "python",
   "name": "python3"
  },
  "language_info": {
   "codemirror_mode": {
    "name": "ipython",
    "version": 3
   },
   "file_extension": ".py",
   "mimetype": "text/x-python",
   "name": "python",
   "nbconvert_exporter": "python",
   "pygments_lexer": "ipython3",
   "version": "3.9.12"
  },
  "toc": {
   "base_numbering": 1,
   "nav_menu": {},
   "number_sections": true,
   "sideBar": true,
   "skip_h1_title": false,
   "title_cell": "Table of Contents",
   "title_sidebar": "Contents",
   "toc_cell": false,
   "toc_position": {},
   "toc_section_display": true,
   "toc_window_display": false
  }
 },
 "nbformat": 4,
 "nbformat_minor": 5
}
